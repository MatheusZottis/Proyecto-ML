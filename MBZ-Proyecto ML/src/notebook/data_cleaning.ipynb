{
 "cells": [
  {
   "attachments": {},
   "cell_type": "markdown",
   "id": "62dadd00",
   "metadata": {},
   "source": [
    "# Cargamos el DataFrame"
   ]
  },
  {
   "cell_type": "code",
   "execution_count": 206,
   "id": "f7d2a381",
   "metadata": {},
   "outputs": [
    {
     "data": {
      "text/html": [
       "<div>\n",
       "<style scoped>\n",
       "    .dataframe tbody tr th:only-of-type {\n",
       "        vertical-align: middle;\n",
       "    }\n",
       "\n",
       "    .dataframe tbody tr th {\n",
       "        vertical-align: top;\n",
       "    }\n",
       "\n",
       "    .dataframe thead th {\n",
       "        text-align: right;\n",
       "    }\n",
       "</style>\n",
       "<table border=\"1\" class=\"dataframe\">\n",
       "  <thead>\n",
       "    <tr style=\"text-align: right;\">\n",
       "      <th></th>\n",
       "      <th>id</th>\n",
       "      <th>author</th>\n",
       "      <th>geometry</th>\n",
       "      <th>pressure [MPa]</th>\n",
       "      <th>mass_flux [kg/m2-s]</th>\n",
       "      <th>x_e_out [-]</th>\n",
       "      <th>D_e [mm]</th>\n",
       "      <th>D_h [mm]</th>\n",
       "      <th>length [mm]</th>\n",
       "      <th>chf_exp [MW/m2]</th>\n",
       "    </tr>\n",
       "  </thead>\n",
       "  <tbody>\n",
       "    <tr>\n",
       "      <th>0</th>\n",
       "      <td>0</td>\n",
       "      <td>Thompson</td>\n",
       "      <td>tube</td>\n",
       "      <td>7.00</td>\n",
       "      <td>3770.0</td>\n",
       "      <td>0.1754</td>\n",
       "      <td>NaN</td>\n",
       "      <td>10.8</td>\n",
       "      <td>432.0</td>\n",
       "      <td>3.6</td>\n",
       "    </tr>\n",
       "    <tr>\n",
       "      <th>1</th>\n",
       "      <td>1</td>\n",
       "      <td>Thompson</td>\n",
       "      <td>tube</td>\n",
       "      <td>NaN</td>\n",
       "      <td>6049.0</td>\n",
       "      <td>-0.0416</td>\n",
       "      <td>10.3</td>\n",
       "      <td>10.3</td>\n",
       "      <td>762.0</td>\n",
       "      <td>6.2</td>\n",
       "    </tr>\n",
       "    <tr>\n",
       "      <th>2</th>\n",
       "      <td>2</td>\n",
       "      <td>Thompson</td>\n",
       "      <td>NaN</td>\n",
       "      <td>13.79</td>\n",
       "      <td>2034.0</td>\n",
       "      <td>0.0335</td>\n",
       "      <td>7.7</td>\n",
       "      <td>7.7</td>\n",
       "      <td>457.0</td>\n",
       "      <td>2.5</td>\n",
       "    </tr>\n",
       "    <tr>\n",
       "      <th>3</th>\n",
       "      <td>3</td>\n",
       "      <td>Beus</td>\n",
       "      <td>annulus</td>\n",
       "      <td>13.79</td>\n",
       "      <td>3679.0</td>\n",
       "      <td>-0.0279</td>\n",
       "      <td>5.6</td>\n",
       "      <td>15.2</td>\n",
       "      <td>2134.0</td>\n",
       "      <td>3.0</td>\n",
       "    </tr>\n",
       "    <tr>\n",
       "      <th>4</th>\n",
       "      <td>4</td>\n",
       "      <td>NaN</td>\n",
       "      <td>tube</td>\n",
       "      <td>13.79</td>\n",
       "      <td>686.0</td>\n",
       "      <td>NaN</td>\n",
       "      <td>11.1</td>\n",
       "      <td>11.1</td>\n",
       "      <td>457.0</td>\n",
       "      <td>2.8</td>\n",
       "    </tr>\n",
       "  </tbody>\n",
       "</table>\n",
       "</div>"
      ],
      "text/plain": [
       "   id    author geometry  pressure [MPa]  mass_flux [kg/m2-s]  x_e_out [-]  \\\n",
       "0   0  Thompson     tube            7.00               3770.0       0.1754   \n",
       "1   1  Thompson     tube             NaN               6049.0      -0.0416   \n",
       "2   2  Thompson      NaN           13.79               2034.0       0.0335   \n",
       "3   3      Beus  annulus           13.79               3679.0      -0.0279   \n",
       "4   4       NaN     tube           13.79                686.0          NaN   \n",
       "\n",
       "   D_e [mm]  D_h [mm]  length [mm]  chf_exp [MW/m2]  \n",
       "0       NaN      10.8        432.0              3.6  \n",
       "1      10.3      10.3        762.0              6.2  \n",
       "2       7.7       7.7        457.0              2.5  \n",
       "3       5.6      15.2       2134.0              3.0  \n",
       "4      11.1      11.1        457.0              2.8  "
      ]
     },
     "execution_count": 206,
     "metadata": {},
     "output_type": "execute_result"
    }
   ],
   "source": [
    "import pandas as pd\n",
    "import sys, os\n",
    "\n",
    "sys.path.append(os.path.abspath(os.path.join('..', 'utils')))\n",
    "\n",
    "df = pd.read_csv(\"../data/data.csv\")\n",
    "df.head()"
   ]
  },
  {
   "attachments": {},
   "cell_type": "markdown",
   "id": "64dad1e0",
   "metadata": {},
   "source": [
    "## Separamos todas las lineas que tangan el 'y' nulo para que despues podamos predecir:"
   ]
  },
  {
   "cell_type": "code",
   "execution_count": 207,
   "id": "88c31b67",
   "metadata": {},
   "outputs": [],
   "source": [
    "df_pred = df[df['x_e_out [-]'].isnull()]"
   ]
  },
  {
   "attachments": {},
   "cell_type": "markdown",
   "id": "61d937a3",
   "metadata": {},
   "source": [
    "Dejamos solo el 'id' y 'x_e_out [-]' como columnas para que enviemos a kaggle despues:"
   ]
  },
  {
   "cell_type": "code",
   "execution_count": 208,
   "id": "c5013e26",
   "metadata": {},
   "outputs": [],
   "source": [
    "df_pred = df_pred.drop(columns=['author', 'geometry', 'pressure [MPa]', 'mass_flux [kg/m2-s]', 'D_e [mm]', 'D_h [mm]', 'length [mm]', 'chf_exp [MW/m2]'])"
   ]
  },
  {
   "cell_type": "code",
   "execution_count": 209,
   "id": "0395fa0b",
   "metadata": {},
   "outputs": [
    {
     "data": {
      "text/html": [
       "<div>\n",
       "<style scoped>\n",
       "    .dataframe tbody tr th:only-of-type {\n",
       "        vertical-align: middle;\n",
       "    }\n",
       "\n",
       "    .dataframe tbody tr th {\n",
       "        vertical-align: top;\n",
       "    }\n",
       "\n",
       "    .dataframe thead th {\n",
       "        text-align: right;\n",
       "    }\n",
       "</style>\n",
       "<table border=\"1\" class=\"dataframe\">\n",
       "  <thead>\n",
       "    <tr style=\"text-align: right;\">\n",
       "      <th></th>\n",
       "      <th>id</th>\n",
       "      <th>x_e_out [-]</th>\n",
       "    </tr>\n",
       "  </thead>\n",
       "  <tbody>\n",
       "    <tr>\n",
       "      <th>4</th>\n",
       "      <td>4</td>\n",
       "      <td>NaN</td>\n",
       "    </tr>\n",
       "    <tr>\n",
       "      <th>7</th>\n",
       "      <td>7</td>\n",
       "      <td>NaN</td>\n",
       "    </tr>\n",
       "    <tr>\n",
       "      <th>10</th>\n",
       "      <td>10</td>\n",
       "      <td>NaN</td>\n",
       "    </tr>\n",
       "    <tr>\n",
       "      <th>12</th>\n",
       "      <td>12</td>\n",
       "      <td>NaN</td>\n",
       "    </tr>\n",
       "    <tr>\n",
       "      <th>23</th>\n",
       "      <td>23</td>\n",
       "      <td>NaN</td>\n",
       "    </tr>\n",
       "    <tr>\n",
       "      <th>...</th>\n",
       "      <td>...</td>\n",
       "      <td>...</td>\n",
       "    </tr>\n",
       "    <tr>\n",
       "      <th>31633</th>\n",
       "      <td>31633</td>\n",
       "      <td>NaN</td>\n",
       "    </tr>\n",
       "    <tr>\n",
       "      <th>31634</th>\n",
       "      <td>31634</td>\n",
       "      <td>NaN</td>\n",
       "    </tr>\n",
       "    <tr>\n",
       "      <th>31637</th>\n",
       "      <td>31637</td>\n",
       "      <td>NaN</td>\n",
       "    </tr>\n",
       "    <tr>\n",
       "      <th>31640</th>\n",
       "      <td>31640</td>\n",
       "      <td>NaN</td>\n",
       "    </tr>\n",
       "    <tr>\n",
       "      <th>31642</th>\n",
       "      <td>31642</td>\n",
       "      <td>NaN</td>\n",
       "    </tr>\n",
       "  </tbody>\n",
       "</table>\n",
       "<p>10415 rows × 2 columns</p>\n",
       "</div>"
      ],
      "text/plain": [
       "          id  x_e_out [-]\n",
       "4          4          NaN\n",
       "7          7          NaN\n",
       "10        10          NaN\n",
       "12        12          NaN\n",
       "23        23          NaN\n",
       "...      ...          ...\n",
       "31633  31633          NaN\n",
       "31634  31634          NaN\n",
       "31637  31637          NaN\n",
       "31640  31640          NaN\n",
       "31642  31642          NaN\n",
       "\n",
       "[10415 rows x 2 columns]"
      ]
     },
     "execution_count": 209,
     "metadata": {},
     "output_type": "execute_result"
    }
   ],
   "source": [
    "df_pred"
   ]
  },
  {
   "attachments": {},
   "cell_type": "markdown",
   "id": "70951623",
   "metadata": {},
   "source": [
    "Salvamos eso en un '.csv' para despues:"
   ]
  },
  {
   "cell_type": "code",
   "execution_count": 210,
   "id": "cd60ed8f",
   "metadata": {},
   "outputs": [],
   "source": [
    "df_pred.to_csv('../data/data_pred.csv')"
   ]
  },
  {
   "attachments": {},
   "cell_type": "markdown",
   "id": "444d6d0c",
   "metadata": {},
   "source": [
    "# Analizamos y limpiamos los datos"
   ]
  },
  {
   "cell_type": "code",
   "execution_count": 211,
   "id": "66737a27",
   "metadata": {},
   "outputs": [
    {
     "data": {
      "text/plain": [
       "(31644, 10)"
      ]
     },
     "execution_count": 211,
     "metadata": {},
     "output_type": "execute_result"
    }
   ],
   "source": [
    "df.shape"
   ]
  },
  {
   "cell_type": "code",
   "execution_count": 212,
   "id": "a6763ea0",
   "metadata": {},
   "outputs": [
    {
     "name": "stdout",
     "output_type": "stream",
     "text": [
      "<class 'pandas.core.frame.DataFrame'>\n",
      "RangeIndex: 31644 entries, 0 to 31643\n",
      "Data columns (total 10 columns):\n",
      " #   Column               Non-Null Count  Dtype  \n",
      "---  ------               --------------  -----  \n",
      " 0   id                   31644 non-null  int64  \n",
      " 1   author               26620 non-null  object \n",
      " 2   geometry             26144 non-null  object \n",
      " 3   pressure [MPa]       27192 non-null  float64\n",
      " 4   mass_flux [kg/m2-s]  26853 non-null  float64\n",
      " 5   x_e_out [-]          21229 non-null  float64\n",
      " 6   D_e [mm]             26156 non-null  float64\n",
      " 7   D_h [mm]             27055 non-null  float64\n",
      " 8   length [mm]          26885 non-null  float64\n",
      " 9   chf_exp [MW/m2]      31644 non-null  float64\n",
      "dtypes: float64(7), int64(1), object(2)\n",
      "memory usage: 2.4+ MB\n"
     ]
    }
   ],
   "source": [
    "df.info()"
   ]
  },
  {
   "attachments": {},
   "cell_type": "markdown",
   "id": "0fd2696e",
   "metadata": {},
   "source": [
    "Eliminamos las columnas que no nos interesan"
   ]
  },
  {
   "cell_type": "code",
   "execution_count": 213,
   "id": "bf13f63b",
   "metadata": {},
   "outputs": [],
   "source": [
    "df = df.drop(columns=['id', 'author', 'geometry'])"
   ]
  },
  {
   "attachments": {},
   "cell_type": "markdown",
   "id": "872d3eb9",
   "metadata": {},
   "source": [
    "Nombres de las columnas iniciales:"
   ]
  },
  {
   "cell_type": "code",
   "execution_count": 214,
   "id": "1022f86b",
   "metadata": {},
   "outputs": [
    {
     "data": {
      "text/plain": [
       "Index(['pressure [MPa]', 'mass_flux [kg/m2-s]', 'x_e_out [-]', 'D_e [mm]',\n",
       "       'D_h [mm]', 'length [mm]', 'chf_exp [MW/m2]'],\n",
       "      dtype='object')"
      ]
     },
     "execution_count": 214,
     "metadata": {},
     "output_type": "execute_result"
    }
   ],
   "source": [
    "df.keys()"
   ]
  },
  {
   "cell_type": "code",
   "execution_count": 215,
   "id": "f032e5a5",
   "metadata": {},
   "outputs": [
    {
     "data": {
      "text/plain": [
       "pressure [MPa]          4452\n",
       "mass_flux [kg/m2-s]     4791\n",
       "x_e_out [-]            10415\n",
       "D_e [mm]                5488\n",
       "D_h [mm]                4589\n",
       "length [mm]             4759\n",
       "chf_exp [MW/m2]            0\n",
       "dtype: int64"
      ]
     },
     "execution_count": 215,
     "metadata": {},
     "output_type": "execute_result"
    }
   ],
   "source": [
    "df.isna().sum()"
   ]
  },
  {
   "attachments": {},
   "cell_type": "markdown",
   "id": "8a1bfd6f",
   "metadata": {},
   "source": [
    "Eliminamos los valores nulos the nustro target:"
   ]
  },
  {
   "cell_type": "code",
   "execution_count": 216,
   "id": "e005698b",
   "metadata": {},
   "outputs": [],
   "source": [
    "df = df.dropna(subset=['x_e_out [-]'])"
   ]
  },
  {
   "attachments": {},
   "cell_type": "markdown",
   "id": "65f99d8b",
   "metadata": {},
   "source": [
    "Rellenamos a los valores nulos de X:"
   ]
  },
  {
   "cell_type": "code",
   "execution_count": 217,
   "id": "2cf39172",
   "metadata": {},
   "outputs": [],
   "source": [
    "df = df.fillna(df.mean())"
   ]
  },
  {
   "attachments": {},
   "cell_type": "markdown",
   "id": "be19b01a",
   "metadata": {},
   "source": [
    "Miramos a los valores de nuestro target:"
   ]
  },
  {
   "cell_type": "code",
   "execution_count": 218,
   "id": "47ce827c",
   "metadata": {},
   "outputs": [
    {
     "data": {
      "text/plain": [
       "array([ 0.1754, -0.0416,  0.0335, ...,  0.0886, -0.1224,  0.0603])"
      ]
     },
     "execution_count": 218,
     "metadata": {},
     "output_type": "execute_result"
    }
   ],
   "source": [
    "df['x_e_out [-]'].values"
   ]
  },
  {
   "attachments": {},
   "cell_type": "markdown",
   "id": "06c962a7",
   "metadata": {},
   "source": [
    "## Preparamos los datos para entrenar"
   ]
  },
  {
   "cell_type": "code",
   "execution_count": 219,
   "id": "66c646a2",
   "metadata": {},
   "outputs": [],
   "source": [
    "from sklearn.model_selection import train_test_split\n",
    "\n",
    "X = df[['pressure [MPa]', 'mass_flux [kg/m2-s]', 'D_e [mm]', 'D_h [mm]', 'length [mm]', 'chf_exp [MW/m2]']]\n",
    "y = df[\"x_e_out [-]\"]\n",
    "\n",
    "X_train, X_test, y_train, y_test = train_test_split(X, y, test_size=0.2, random_state=42)"
   ]
  },
  {
   "cell_type": "code",
   "execution_count": 220,
   "id": "54bb6cc3",
   "metadata": {},
   "outputs": [
    {
     "data": {
      "text/html": [
       "<div>\n",
       "<style scoped>\n",
       "    .dataframe tbody tr th:only-of-type {\n",
       "        vertical-align: middle;\n",
       "    }\n",
       "\n",
       "    .dataframe tbody tr th {\n",
       "        vertical-align: top;\n",
       "    }\n",
       "\n",
       "    .dataframe thead th {\n",
       "        text-align: right;\n",
       "    }\n",
       "</style>\n",
       "<table border=\"1\" class=\"dataframe\">\n",
       "  <thead>\n",
       "    <tr style=\"text-align: right;\">\n",
       "      <th></th>\n",
       "      <th>pressure [MPa]</th>\n",
       "      <th>mass_flux [kg/m2-s]</th>\n",
       "      <th>D_e [mm]</th>\n",
       "      <th>D_h [mm]</th>\n",
       "      <th>length [mm]</th>\n",
       "      <th>chf_exp [MW/m2]</th>\n",
       "    </tr>\n",
       "  </thead>\n",
       "  <tbody>\n",
       "    <tr>\n",
       "      <th>4147</th>\n",
       "      <td>13.79</td>\n",
       "      <td>2034.000000</td>\n",
       "      <td>7.700000</td>\n",
       "      <td>7.700000</td>\n",
       "      <td>457.0</td>\n",
       "      <td>3.7</td>\n",
       "    </tr>\n",
       "    <tr>\n",
       "      <th>23341</th>\n",
       "      <td>6.89</td>\n",
       "      <td>6157.000000</td>\n",
       "      <td>8.589305</td>\n",
       "      <td>3.600000</td>\n",
       "      <td>76.0</td>\n",
       "      <td>6.6</td>\n",
       "    </tr>\n",
       "    <tr>\n",
       "      <th>5858</th>\n",
       "      <td>6.89</td>\n",
       "      <td>4286.000000</td>\n",
       "      <td>10.300000</td>\n",
       "      <td>10.300000</td>\n",
       "      <td>794.0</td>\n",
       "      <td>5.9</td>\n",
       "    </tr>\n",
       "    <tr>\n",
       "      <th>7624</th>\n",
       "      <td>6.89</td>\n",
       "      <td>5859.000000</td>\n",
       "      <td>10.300000</td>\n",
       "      <td>10.300000</td>\n",
       "      <td>794.0</td>\n",
       "      <td>3.6</td>\n",
       "    </tr>\n",
       "    <tr>\n",
       "      <th>3039</th>\n",
       "      <td>6.89</td>\n",
       "      <td>5479.000000</td>\n",
       "      <td>23.600000</td>\n",
       "      <td>14.215446</td>\n",
       "      <td>1972.0</td>\n",
       "      <td>4.9</td>\n",
       "    </tr>\n",
       "    <tr>\n",
       "      <th>...</th>\n",
       "      <td>...</td>\n",
       "      <td>...</td>\n",
       "      <td>...</td>\n",
       "      <td>...</td>\n",
       "      <td>...</td>\n",
       "      <td>...</td>\n",
       "    </tr>\n",
       "    <tr>\n",
       "      <th>16916</th>\n",
       "      <td>13.79</td>\n",
       "      <td>1316.000000</td>\n",
       "      <td>4.700000</td>\n",
       "      <td>4.700000</td>\n",
       "      <td>318.0</td>\n",
       "      <td>3.9</td>\n",
       "    </tr>\n",
       "    <tr>\n",
       "      <th>17899</th>\n",
       "      <td>12.00</td>\n",
       "      <td>3070.487779</td>\n",
       "      <td>10.000000</td>\n",
       "      <td>10.000000</td>\n",
       "      <td>1000.0</td>\n",
       "      <td>3.1</td>\n",
       "    </tr>\n",
       "    <tr>\n",
       "      <th>8029</th>\n",
       "      <td>10.34</td>\n",
       "      <td>7432.000000</td>\n",
       "      <td>10.300000</td>\n",
       "      <td>10.300000</td>\n",
       "      <td>762.0</td>\n",
       "      <td>2.6</td>\n",
       "    </tr>\n",
       "    <tr>\n",
       "      <th>1288</th>\n",
       "      <td>13.79</td>\n",
       "      <td>963.000000</td>\n",
       "      <td>7.700000</td>\n",
       "      <td>7.700000</td>\n",
       "      <td>457.0</td>\n",
       "      <td>13.3</td>\n",
       "    </tr>\n",
       "    <tr>\n",
       "      <th>23568</th>\n",
       "      <td>11.03</td>\n",
       "      <td>2672.000000</td>\n",
       "      <td>11.500000</td>\n",
       "      <td>11.500000</td>\n",
       "      <td>1524.0</td>\n",
       "      <td>2.0</td>\n",
       "    </tr>\n",
       "  </tbody>\n",
       "</table>\n",
       "<p>16983 rows × 6 columns</p>\n",
       "</div>"
      ],
      "text/plain": [
       "       pressure [MPa]  mass_flux [kg/m2-s]   D_e [mm]   D_h [mm]  length [mm]  \\\n",
       "4147            13.79          2034.000000   7.700000   7.700000        457.0   \n",
       "23341            6.89          6157.000000   8.589305   3.600000         76.0   \n",
       "5858             6.89          4286.000000  10.300000  10.300000        794.0   \n",
       "7624             6.89          5859.000000  10.300000  10.300000        794.0   \n",
       "3039             6.89          5479.000000  23.600000  14.215446       1972.0   \n",
       "...               ...                  ...        ...        ...          ...   \n",
       "16916           13.79          1316.000000   4.700000   4.700000        318.0   \n",
       "17899           12.00          3070.487779  10.000000  10.000000       1000.0   \n",
       "8029            10.34          7432.000000  10.300000  10.300000        762.0   \n",
       "1288            13.79           963.000000   7.700000   7.700000        457.0   \n",
       "23568           11.03          2672.000000  11.500000  11.500000       1524.0   \n",
       "\n",
       "       chf_exp [MW/m2]  \n",
       "4147               3.7  \n",
       "23341              6.6  \n",
       "5858               5.9  \n",
       "7624               3.6  \n",
       "3039               4.9  \n",
       "...                ...  \n",
       "16916              3.9  \n",
       "17899              3.1  \n",
       "8029               2.6  \n",
       "1288              13.3  \n",
       "23568              2.0  \n",
       "\n",
       "[16983 rows x 6 columns]"
      ]
     },
     "execution_count": 220,
     "metadata": {},
     "output_type": "execute_result"
    }
   ],
   "source": [
    "X_train"
   ]
  },
  {
   "cell_type": "code",
   "execution_count": 221,
   "id": "8a5fdd42",
   "metadata": {},
   "outputs": [
    {
     "data": {
      "text/html": [
       "<div>\n",
       "<style scoped>\n",
       "    .dataframe tbody tr th:only-of-type {\n",
       "        vertical-align: middle;\n",
       "    }\n",
       "\n",
       "    .dataframe tbody tr th {\n",
       "        vertical-align: top;\n",
       "    }\n",
       "\n",
       "    .dataframe thead th {\n",
       "        text-align: right;\n",
       "    }\n",
       "</style>\n",
       "<table border=\"1\" class=\"dataframe\">\n",
       "  <thead>\n",
       "    <tr style=\"text-align: right;\">\n",
       "      <th></th>\n",
       "      <th>pressure [MPa]</th>\n",
       "      <th>mass_flux [kg/m2-s]</th>\n",
       "      <th>D_e [mm]</th>\n",
       "      <th>D_h [mm]</th>\n",
       "      <th>length [mm]</th>\n",
       "      <th>chf_exp [MW/m2]</th>\n",
       "    </tr>\n",
       "  </thead>\n",
       "  <tbody>\n",
       "    <tr>\n",
       "      <th>16131</th>\n",
       "      <td>10.635066</td>\n",
       "      <td>1356.000000</td>\n",
       "      <td>9.500000</td>\n",
       "      <td>9.5</td>\n",
       "      <td>1836.000000</td>\n",
       "      <td>1.1</td>\n",
       "    </tr>\n",
       "    <tr>\n",
       "      <th>19645</th>\n",
       "      <td>10.635066</td>\n",
       "      <td>694.000000</td>\n",
       "      <td>8.589305</td>\n",
       "      <td>7.7</td>\n",
       "      <td>457.000000</td>\n",
       "      <td>2.9</td>\n",
       "    </tr>\n",
       "    <tr>\n",
       "      <th>6068</th>\n",
       "      <td>6.890000</td>\n",
       "      <td>6049.000000</td>\n",
       "      <td>10.300000</td>\n",
       "      <td>10.3</td>\n",
       "      <td>762.000000</td>\n",
       "      <td>4.5</td>\n",
       "    </tr>\n",
       "    <tr>\n",
       "      <th>14276</th>\n",
       "      <td>13.790000</td>\n",
       "      <td>1356.000000</td>\n",
       "      <td>7.700000</td>\n",
       "      <td>7.7</td>\n",
       "      <td>457.000000</td>\n",
       "      <td>5.5</td>\n",
       "    </tr>\n",
       "    <tr>\n",
       "      <th>25860</th>\n",
       "      <td>15.510000</td>\n",
       "      <td>3070.487779</td>\n",
       "      <td>8.589305</td>\n",
       "      <td>1.9</td>\n",
       "      <td>152.000000</td>\n",
       "      <td>3.7</td>\n",
       "    </tr>\n",
       "    <tr>\n",
       "      <th>...</th>\n",
       "      <td>...</td>\n",
       "      <td>...</td>\n",
       "      <td>...</td>\n",
       "      <td>...</td>\n",
       "      <td>...</td>\n",
       "      <td>...</td>\n",
       "    </tr>\n",
       "    <tr>\n",
       "      <th>3651</th>\n",
       "      <td>13.790000</td>\n",
       "      <td>3070.487779</td>\n",
       "      <td>8.589305</td>\n",
       "      <td>7.7</td>\n",
       "      <td>457.000000</td>\n",
       "      <td>3.7</td>\n",
       "    </tr>\n",
       "    <tr>\n",
       "      <th>14324</th>\n",
       "      <td>10.635066</td>\n",
       "      <td>2278.000000</td>\n",
       "      <td>12.700000</td>\n",
       "      <td>42.3</td>\n",
       "      <td>1778.000000</td>\n",
       "      <td>3.8</td>\n",
       "    </tr>\n",
       "    <tr>\n",
       "      <th>19813</th>\n",
       "      <td>17.240000</td>\n",
       "      <td>2007.000000</td>\n",
       "      <td>8.589305</td>\n",
       "      <td>1.9</td>\n",
       "      <td>830.564962</td>\n",
       "      <td>2.5</td>\n",
       "    </tr>\n",
       "    <tr>\n",
       "      <th>25162</th>\n",
       "      <td>12.070000</td>\n",
       "      <td>3296.000000</td>\n",
       "      <td>1.900000</td>\n",
       "      <td>1.9</td>\n",
       "      <td>696.000000</td>\n",
       "      <td>2.5</td>\n",
       "    </tr>\n",
       "    <tr>\n",
       "      <th>23110</th>\n",
       "      <td>13.790000</td>\n",
       "      <td>3906.000000</td>\n",
       "      <td>4.700000</td>\n",
       "      <td>4.7</td>\n",
       "      <td>318.000000</td>\n",
       "      <td>4.5</td>\n",
       "    </tr>\n",
       "  </tbody>\n",
       "</table>\n",
       "<p>4246 rows × 6 columns</p>\n",
       "</div>"
      ],
      "text/plain": [
       "       pressure [MPa]  mass_flux [kg/m2-s]   D_e [mm]  D_h [mm]  length [mm]  \\\n",
       "16131       10.635066          1356.000000   9.500000       9.5  1836.000000   \n",
       "19645       10.635066           694.000000   8.589305       7.7   457.000000   \n",
       "6068         6.890000          6049.000000  10.300000      10.3   762.000000   \n",
       "14276       13.790000          1356.000000   7.700000       7.7   457.000000   \n",
       "25860       15.510000          3070.487779   8.589305       1.9   152.000000   \n",
       "...               ...                  ...        ...       ...          ...   \n",
       "3651        13.790000          3070.487779   8.589305       7.7   457.000000   \n",
       "14324       10.635066          2278.000000  12.700000      42.3  1778.000000   \n",
       "19813       17.240000          2007.000000   8.589305       1.9   830.564962   \n",
       "25162       12.070000          3296.000000   1.900000       1.9   696.000000   \n",
       "23110       13.790000          3906.000000   4.700000       4.7   318.000000   \n",
       "\n",
       "       chf_exp [MW/m2]  \n",
       "16131              1.1  \n",
       "19645              2.9  \n",
       "6068               4.5  \n",
       "14276              5.5  \n",
       "25860              3.7  \n",
       "...                ...  \n",
       "3651               3.7  \n",
       "14324              3.8  \n",
       "19813              2.5  \n",
       "25162              2.5  \n",
       "23110              4.5  \n",
       "\n",
       "[4246 rows x 6 columns]"
      ]
     },
     "execution_count": 221,
     "metadata": {},
     "output_type": "execute_result"
    }
   ],
   "source": [
    "X_test"
   ]
  },
  {
   "cell_type": "code",
   "execution_count": 222,
   "id": "66ee515c",
   "metadata": {},
   "outputs": [
    {
     "data": {
      "text/plain": [
       "4147    -0.1356\n",
       "23341   -0.1332\n",
       "5858    -0.0092\n",
       "7624    -0.0574\n",
       "3039    -0.0069\n",
       "          ...  \n",
       "16916   -0.1046\n",
       "17899   -0.0466\n",
       "8029    -0.1403\n",
       "1288    -0.1341\n",
       "23568    0.0839\n",
       "Name: x_e_out [-], Length: 16983, dtype: float64"
      ]
     },
     "execution_count": 222,
     "metadata": {},
     "output_type": "execute_result"
    }
   ],
   "source": [
    "y_train"
   ]
  },
  {
   "cell_type": "code",
   "execution_count": 223,
   "id": "6ba3009c",
   "metadata": {},
   "outputs": [
    {
     "data": {
      "text/plain": [
       "16131    0.1517\n",
       "19645   -0.0202\n",
       "6068    -0.0416\n",
       "14276   -0.3469\n",
       "25860   -0.0571\n",
       "          ...  \n",
       "3651    -0.1756\n",
       "14324    0.0063\n",
       "19813   -0.1977\n",
       "25162   -0.0408\n",
       "23110    0.0783\n",
       "Name: x_e_out [-], Length: 4246, dtype: float64"
      ]
     },
     "execution_count": 223,
     "metadata": {},
     "output_type": "execute_result"
    }
   ],
   "source": [
    "y_test"
   ]
  },
  {
   "attachments": {},
   "cell_type": "markdown",
   "id": "c8f8cadf",
   "metadata": {},
   "source": [
    "Hacemos una copia y exportamos a CSV para que tengamos el Data original y el limpio"
   ]
  },
  {
   "cell_type": "code",
   "execution_count": 224,
   "id": "2b05a6c0",
   "metadata": {},
   "outputs": [],
   "source": [
    "df_final = df.copy()"
   ]
  },
  {
   "cell_type": "code",
   "execution_count": 225,
   "id": "fb6387d9",
   "metadata": {},
   "outputs": [
    {
     "data": {
      "text/html": [
       "<div>\n",
       "<style scoped>\n",
       "    .dataframe tbody tr th:only-of-type {\n",
       "        vertical-align: middle;\n",
       "    }\n",
       "\n",
       "    .dataframe tbody tr th {\n",
       "        vertical-align: top;\n",
       "    }\n",
       "\n",
       "    .dataframe thead th {\n",
       "        text-align: right;\n",
       "    }\n",
       "</style>\n",
       "<table border=\"1\" class=\"dataframe\">\n",
       "  <thead>\n",
       "    <tr style=\"text-align: right;\">\n",
       "      <th></th>\n",
       "      <th>pressure [MPa]</th>\n",
       "      <th>mass_flux [kg/m2-s]</th>\n",
       "      <th>x_e_out [-]</th>\n",
       "      <th>D_e [mm]</th>\n",
       "      <th>D_h [mm]</th>\n",
       "      <th>length [mm]</th>\n",
       "      <th>chf_exp [MW/m2]</th>\n",
       "    </tr>\n",
       "  </thead>\n",
       "  <tbody>\n",
       "    <tr>\n",
       "      <th>0</th>\n",
       "      <td>7.000000</td>\n",
       "      <td>3770.000000</td>\n",
       "      <td>0.1754</td>\n",
       "      <td>8.589305</td>\n",
       "      <td>10.8</td>\n",
       "      <td>432.0</td>\n",
       "      <td>3.6</td>\n",
       "    </tr>\n",
       "    <tr>\n",
       "      <th>1</th>\n",
       "      <td>10.635066</td>\n",
       "      <td>6049.000000</td>\n",
       "      <td>-0.0416</td>\n",
       "      <td>10.300000</td>\n",
       "      <td>10.3</td>\n",
       "      <td>762.0</td>\n",
       "      <td>6.2</td>\n",
       "    </tr>\n",
       "    <tr>\n",
       "      <th>2</th>\n",
       "      <td>13.790000</td>\n",
       "      <td>2034.000000</td>\n",
       "      <td>0.0335</td>\n",
       "      <td>7.700000</td>\n",
       "      <td>7.7</td>\n",
       "      <td>457.0</td>\n",
       "      <td>2.5</td>\n",
       "    </tr>\n",
       "    <tr>\n",
       "      <th>3</th>\n",
       "      <td>13.790000</td>\n",
       "      <td>3679.000000</td>\n",
       "      <td>-0.0279</td>\n",
       "      <td>5.600000</td>\n",
       "      <td>15.2</td>\n",
       "      <td>2134.0</td>\n",
       "      <td>3.0</td>\n",
       "    </tr>\n",
       "    <tr>\n",
       "      <th>5</th>\n",
       "      <td>17.240000</td>\n",
       "      <td>3648.000000</td>\n",
       "      <td>-0.0711</td>\n",
       "      <td>8.589305</td>\n",
       "      <td>1.9</td>\n",
       "      <td>696.0</td>\n",
       "      <td>3.6</td>\n",
       "    </tr>\n",
       "    <tr>\n",
       "      <th>...</th>\n",
       "      <td>...</td>\n",
       "      <td>...</td>\n",
       "      <td>...</td>\n",
       "      <td>...</td>\n",
       "      <td>...</td>\n",
       "      <td>...</td>\n",
       "      <td>...</td>\n",
       "    </tr>\n",
       "    <tr>\n",
       "      <th>31636</th>\n",
       "      <td>12.070000</td>\n",
       "      <td>3070.487779</td>\n",
       "      <td>-0.0195</td>\n",
       "      <td>8.589305</td>\n",
       "      <td>1.9</td>\n",
       "      <td>152.0</td>\n",
       "      <td>5.4</td>\n",
       "    </tr>\n",
       "    <tr>\n",
       "      <th>31638</th>\n",
       "      <td>10.635066</td>\n",
       "      <td>3648.000000</td>\n",
       "      <td>-0.0487</td>\n",
       "      <td>4.700000</td>\n",
       "      <td>4.7</td>\n",
       "      <td>318.0</td>\n",
       "      <td>9.0</td>\n",
       "    </tr>\n",
       "    <tr>\n",
       "      <th>31639</th>\n",
       "      <td>10.635066</td>\n",
       "      <td>1736.000000</td>\n",
       "      <td>0.0886</td>\n",
       "      <td>8.589305</td>\n",
       "      <td>7.8</td>\n",
       "      <td>591.0</td>\n",
       "      <td>2.3</td>\n",
       "    </tr>\n",
       "    <tr>\n",
       "      <th>31641</th>\n",
       "      <td>18.270000</td>\n",
       "      <td>658.000000</td>\n",
       "      <td>-0.1224</td>\n",
       "      <td>3.000000</td>\n",
       "      <td>3.0</td>\n",
       "      <td>150.0</td>\n",
       "      <td>2.3</td>\n",
       "    </tr>\n",
       "    <tr>\n",
       "      <th>31643</th>\n",
       "      <td>6.890000</td>\n",
       "      <td>7568.000000</td>\n",
       "      <td>0.0603</td>\n",
       "      <td>12.800000</td>\n",
       "      <td>12.8</td>\n",
       "      <td>1930.0</td>\n",
       "      <td>3.3</td>\n",
       "    </tr>\n",
       "  </tbody>\n",
       "</table>\n",
       "<p>21229 rows × 7 columns</p>\n",
       "</div>"
      ],
      "text/plain": [
       "       pressure [MPa]  mass_flux [kg/m2-s]  x_e_out [-]   D_e [mm]  D_h [mm]  \\\n",
       "0            7.000000          3770.000000       0.1754   8.589305      10.8   \n",
       "1           10.635066          6049.000000      -0.0416  10.300000      10.3   \n",
       "2           13.790000          2034.000000       0.0335   7.700000       7.7   \n",
       "3           13.790000          3679.000000      -0.0279   5.600000      15.2   \n",
       "5           17.240000          3648.000000      -0.0711   8.589305       1.9   \n",
       "...               ...                  ...          ...        ...       ...   \n",
       "31636       12.070000          3070.487779      -0.0195   8.589305       1.9   \n",
       "31638       10.635066          3648.000000      -0.0487   4.700000       4.7   \n",
       "31639       10.635066          1736.000000       0.0886   8.589305       7.8   \n",
       "31641       18.270000           658.000000      -0.1224   3.000000       3.0   \n",
       "31643        6.890000          7568.000000       0.0603  12.800000      12.8   \n",
       "\n",
       "       length [mm]  chf_exp [MW/m2]  \n",
       "0            432.0              3.6  \n",
       "1            762.0              6.2  \n",
       "2            457.0              2.5  \n",
       "3           2134.0              3.0  \n",
       "5            696.0              3.6  \n",
       "...            ...              ...  \n",
       "31636        152.0              5.4  \n",
       "31638        318.0              9.0  \n",
       "31639        591.0              2.3  \n",
       "31641        150.0              2.3  \n",
       "31643       1930.0              3.3  \n",
       "\n",
       "[21229 rows x 7 columns]"
      ]
     },
     "execution_count": 225,
     "metadata": {},
     "output_type": "execute_result"
    }
   ],
   "source": [
    "df_final"
   ]
  },
  {
   "cell_type": "code",
   "execution_count": 226,
   "id": "8a3b67b6",
   "metadata": {},
   "outputs": [],
   "source": [
    "df_final.to_csv('../data/data_limpio.csv')"
   ]
  }
 ],
 "metadata": {
  "kernelspec": {
   "display_name": "Python 3 (ipykernel)",
   "language": "python",
   "name": "python3"
  },
  "language_info": {
   "codemirror_mode": {
    "name": "ipython",
    "version": 3
   },
   "file_extension": ".py",
   "mimetype": "text/x-python",
   "name": "python",
   "nbconvert_exporter": "python",
   "pygments_lexer": "ipython3",
   "version": "3.7.4"
  }
 },
 "nbformat": 4,
 "nbformat_minor": 5
}
